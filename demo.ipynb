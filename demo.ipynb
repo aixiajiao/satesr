{
 "cells": [
  {
   "cell_type": "code",
   "execution_count": null,
   "id": "5ad4d32d",
   "metadata": {},
   "outputs": [],
   "source": [
    "#!git clone https://github.com/aixiajiao/satesr.git\n",
    "#%cd satesr"
   ]
  },
  {
   "cell_type": "code",
   "execution_count": null,
   "id": "c7ba1ff8",
   "metadata": {},
   "outputs": [],
   "source": [
    "!python setup.py"
   ]
  },
  {
   "cell_type": "code",
   "execution_count": null,
   "id": "e27dd082",
   "metadata": {},
   "outputs": [],
   "source": [
    "from satesr import satesr"
   ]
  },
  {
   "cell_type": "code",
   "execution_count": null,
   "id": "a30c9d76",
   "metadata": {},
   "outputs": [],
   "source": [
    "latlon=[51.53, -0.1311]\n",
    "download_folder='demos/aerial_imgs/0813'"
   ]
  },
  {
   "cell_type": "code",
   "execution_count": null,
   "id": "1358614f",
   "metadata": {},
   "outputs": [],
   "source": [
    "#download images\n",
    "satesr(lat=latlon[0], #latitude    \n",
    "       lon=latlon[1], #longitude\n",
    "       radius=200,    #radius of the requested area\n",
    "       maxlevel=16,   #optinal, detail level of the requested area (1 to 23), higher the better, default at 20.\n",
    "       path=download_folder, #photo path\n",
    "       enhance=False,  #optional, image superesolution\n",
    "       scale=3.5)       #optional, default=4, the SR output scale of the requested image\n",
    "#other optional inputs: label(bool)--enable road label for the requested image, default = False;\n",
    "#                       tile(int)--split photos to tiles when GPU memory is limited, default = 0 ."
   ]
  },
  {
   "cell_type": "code",
   "execution_count": null,
   "id": "bb1b4f97",
   "metadata": {},
   "outputs": [],
   "source": [
    "#can also perform bulk SR processing\n",
    "satesr(enhance=True, path='demos/aerial_imgs/0813')"
   ]
  },
  {
   "cell_type": "code",
   "execution_count": null,
   "id": "df01898f",
   "metadata": {},
   "outputs": [],
   "source": [
    "sr_outputfolder= download_folder + '_enhanced'"
   ]
  },
  {
   "cell_type": "code",
   "execution_count": null,
   "id": "3e2f475c",
   "metadata": {
    "scrolled": false
   },
   "outputs": [],
   "source": [
    "import os\n",
    "output_images = [os.path.join(sr_outputfolder, x) for x in os.listdir(sr_outputfolder) if x[-4:] == \"jpeg\"]\n",
    "from IPython.display import Image\n",
    "import random\n",
    "random_number = random.randint(0, (len(output_images)-1))\n",
    "Image(output_images[random_number]) "
   ]
  },
  {
   "cell_type": "code",
   "execution_count": null,
   "id": "145088d7",
   "metadata": {},
   "outputs": [],
   "source": []
  }
 ],
 "metadata": {
  "kernelspec": {
   "display_name": "Python 3 (ipykernel)",
   "language": "python",
   "name": "python3"
  },
  "language_info": {
   "codemirror_mode": {
    "name": "ipython",
    "version": 3
   },
   "file_extension": ".py",
   "mimetype": "text/x-python",
   "name": "python",
   "nbconvert_exporter": "python",
   "pygments_lexer": "ipython3",
   "version": "3.9.13"
  },
  "vscode": {
   "interpreter": {
    "hash": "b0fa6594d8f4cbf19f97940f81e996739fb7646882a419484c72d19e05852a7e"
   }
  }
 },
 "nbformat": 4,
 "nbformat_minor": 5
}
